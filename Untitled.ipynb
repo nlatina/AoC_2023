{
 "cells": [
  {
   "cell_type": "code",
   "execution_count": 1,
   "id": "8b6e5ac9",
   "metadata": {},
   "outputs": [],
   "source": [
    "'''day 10'''\n",
    "import numpy as np\n",
    "import re"
   ]
  },
  {
   "cell_type": "code",
   "execution_count": 2,
   "id": "4a1eca12",
   "metadata": {},
   "outputs": [],
   "source": [
    "with open('data/day10.txt', 'r') as day10:\n",
    "    data = np.array([[char for char in line.strip()] for line in day10])\n",
    "    data = np.pad(data, pad_width = 1, mode = 'constant', constant_values = '.')"
   ]
  },
  {
   "cell_type": "code",
   "execution_count": 4,
   "id": "9dd6b920",
   "metadata": {},
   "outputs": [
    {
     "name": "stdout",
     "output_type": "stream",
     "text": [
      "current = [77, 110], history = [[77, 110]]\n",
      "Start:\n",
      "6697.0\n"
     ]
    }
   ],
   "source": [
    "start_x, start_y = np.where(data == 'S')\n",
    "current = [int(start_x), int(start_y)]\n",
    "\n",
    "cardinals = [[0,-1], \n",
    "             [-1,0], \n",
    "             [0,1], \n",
    "             [1,0]]\n",
    "\n",
    "history = [current.copy()]\n",
    "# 0 = left, 1 = up, 2 = right, 3 = down.\n",
    "# the pipe_matrix shows which pipe types correspond to coming in on the row, out on column.\n",
    "# example: coming in from down and out to the right corresponds to F, or pipe_matrix[3,2]\n",
    "pypetipes = [['-', 'F', 'L'], \n",
    "             ['|', 'F', '7'], \n",
    "             ['-', '7', 'J'], \n",
    "             ['|', 'L', 'J']]\n",
    "\n",
    "pipe_matrix = np.array([['.','J','-','7'],\n",
    "              ['J','.','L','|'],\n",
    "              ['-','L','.','F'],\n",
    "              ['7','|','F','.']])\n",
    "\n",
    "print(f'current = {current}, history = {history}')\n",
    "\n",
    "\n",
    "print('Start:')\n",
    "for i in range(4):\n",
    "    if (sym := data[current[0] + cardinals[i][0], current[1] + cardinals[i][1]]) in pypetipes[i]:\n",
    "        current_piece = sym\n",
    "        IN = (i+2) % 4\n",
    "        \n",
    "        #print(f'sym = {sym}')\n",
    "        OUT = int(np.where(pipe_matrix[IN] == sym)[0])\n",
    "       # print(f'IN = {IN}, OUT = {OUT}')\n",
    "        current[0] += cardinals[i][0]\n",
    "        current[1] += cardinals[i][1]\n",
    "\n",
    "        #print(f'current = {current}')\n",
    "        break\n",
    "            \n",
    "#print('made it here')\n",
    "while True:\n",
    "    history.append(current.copy())\n",
    "    current[0] += cardinals[OUT][0]\n",
    "    current[1] += cardinals[OUT][1]\n",
    "    sym = data[current[0], current[1]]\n",
    "    if sym == 'S':\n",
    "        break\n",
    "    IN = (OUT + 2) % 4\n",
    "    OUT = int(np.where(pipe_matrix[IN] == sym)[0])\n",
    "#print('end')\n",
    "print(len(history)/2)"
   ]
  },
  {
   "cell_type": "code",
   "execution_count": null,
   "id": "013fbb18",
   "metadata": {},
   "outputs": [],
   "source": [
    "''' generate colored data html for visualization'''\n",
    "\n",
    "def generate_html_with_red_coords(data, coords):\n",
    "    html_output = \"<html><body><pre>\"\n",
    "    for i, row in enumerate(data):\n",
    "        for j, char in enumerate(row):\n",
    "            # Check if the current coordinate is in the list\n",
    "            if (i, j) in coords or [i,j] in coords:\n",
    "                # If so, wrap the character in a span with red color\n",
    "                html_output += f\"<span style='color:red;'>{char}</span>\"\n",
    "            else:\n",
    "                html_output += char\n",
    "        html_output += \"\\n\"\n",
    "    html_output += \"</pre></body></html>\"\n",
    "    return html_output\n",
    "\n",
    "# Generate HTML representation\n",
    "html_representation = generate_html_with_red_coords(data, history)\n",
    "\n",
    "# Displaying a part of the HTML representation for review\n",
    "output_file_path = 'data/day_10_colored_output_part1.html'\n",
    "\n",
    "# Saving the HTML representation to a file\n",
    "with open(output_file_path, 'w') as file:\n",
    "    file.write(html_representation)"
   ]
  }
 ],
 "metadata": {
  "kernelspec": {
   "display_name": "Python 3 (ipykernel)",
   "language": "python",
   "name": "python3"
  },
  "language_info": {
   "codemirror_mode": {
    "name": "ipython",
    "version": 3
   },
   "file_extension": ".py",
   "mimetype": "text/x-python",
   "name": "python",
   "nbconvert_exporter": "python",
   "pygments_lexer": "ipython3",
   "version": "3.9.7"
  }
 },
 "nbformat": 4,
 "nbformat_minor": 5
}
