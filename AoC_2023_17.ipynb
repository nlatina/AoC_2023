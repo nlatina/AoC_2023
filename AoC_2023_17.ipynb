{
 "cells": [
  {
   "cell_type": "code",
   "execution_count": 73,
   "id": "bf392b1f",
   "metadata": {},
   "outputs": [],
   "source": [
    "'''day 17'''\n",
    "from heapq import heappush, heappop\n",
    "with open('data/day17.txt', 'r') as day17:\n",
    "    data = [[int(num) for num in line.strip()] for line in day17]"
   ]
  },
  {
   "cell_type": "code",
   "execution_count": 74,
   "id": "03836447",
   "metadata": {},
   "outputs": [
    {
     "name": "stdout",
     "output_type": "stream",
     "text": [
      "843\n"
     ]
    }
   ],
   "source": [
    "'''part 1'''\n",
    "visited = set()\n",
    "\n",
    "# entries = heat loss, current row, current col, direction tuple, # of consecutive steps\n",
    "heap = [(0, 0, 0, (0, 0), 0)]\n",
    "\n",
    "def viable_directions(direction):# recently learned about gen functions, wanted to try it out\n",
    "    yield (-abs(direction[0]) + 1, -abs(direction[1]) + 1)\n",
    "    yield (-1*(-abs(direction[0]) + 1), -1*(-abs(direction[1]) + 1))\n",
    "    \n",
    "\n",
    "def add(heat_loss, row, col, direction, steps):\n",
    "    \n",
    "    new_row = row + direction[0]\n",
    "    new_col = col + direction[1]\n",
    "    \n",
    "    if -1 in (new_row, new_col) or len(data) in (new_row, new_col):\n",
    "        return\n",
    "    \n",
    "    new_heat_loss = heat_loss + data[new_row][new_col]\n",
    "    heappush(heap, (new_heat_loss, new_row, new_col, direction, steps))\n",
    "\n",
    "while True:\n",
    "    \n",
    "    heat_loss, row, col, direction, steps = heappop(heap) # current best\n",
    "    \n",
    "    if (row, col) == (len(data)-1, len(data[0])-1):\n",
    "        print(heat_loss)\n",
    "        break\n",
    "        \n",
    "    # if at same space going same direction as before, skip\n",
    "    if (row, col, direction, steps) in visited: #ignore if already seen current space\n",
    "        continue\n",
    "\n",
    "    visited.add((row, col, direction, steps))\n",
    "    \n",
    "    if direction == (0, 0):\n",
    "        add(heat_loss, row, col, (1, 0), steps + 1)\n",
    "        add(heat_loss, row, col, (0, 1), steps + 1)\n",
    "        continue\n",
    "        \n",
    "    if steps < 3:\n",
    "        add(heat_loss, row, col, direction, steps + 1)\n",
    "    \n",
    "    # directions correspond to 90 degree turn\n",
    "    for d in viable_directions(direction):\n",
    "        add(heat_loss, row, col, d, 1)"
   ]
  },
  {
   "cell_type": "code",
   "execution_count": 76,
   "id": "2ae73bf3",
   "metadata": {},
   "outputs": [
    {
     "name": "stdout",
     "output_type": "stream",
     "text": [
      "1017\n"
     ]
    }
   ],
   "source": [
    "'''part 2'''\n",
    "\n",
    "visited = set()\n",
    "\n",
    "heap = [(0, 0, 0, (0, 0), 0)]\n",
    "\n",
    "while True:\n",
    "    \n",
    "    heat_loss, row, col, direction, steps = heappop(heap) # current best\n",
    "    \n",
    "    if (row, col) == (len(data)-1, len(data[0])-1):\n",
    "        print(heat_loss)\n",
    "        break\n",
    "        \n",
    "    # if at same space going same direction as before, skip\n",
    "    if (row, col, direction, steps) in visited: #ignore if already seen current space\n",
    "        continue\n",
    "\n",
    "    visited.add((row, col, direction, steps))\n",
    "    \n",
    "    if direction == (0, 0):\n",
    "        add(heat_loss, row, col, (1, 0), steps + 1)\n",
    "        add(heat_loss, row, col, (0, 1), steps + 1)\n",
    "        continue\n",
    "        \n",
    "    if steps < 4:\n",
    "        add(heat_loss, row, col, direction, steps + 1)\n",
    "        continue\n",
    "        \n",
    "    if steps < 10:\n",
    "        add(heat_loss, row, col, direction, steps + 1)\n",
    "    \n",
    "    # directions correspond to 90 degree turn\n",
    "    for d in viable_directions(direction):\n",
    "        add(heat_loss, row, col, d, 1)"
   ]
  }
 ],
 "metadata": {
  "kernelspec": {
   "display_name": "Python 3 (ipykernel)",
   "language": "python",
   "name": "python3"
  },
  "language_info": {
   "codemirror_mode": {
    "name": "ipython",
    "version": 3
   },
   "file_extension": ".py",
   "mimetype": "text/x-python",
   "name": "python",
   "nbconvert_exporter": "python",
   "pygments_lexer": "ipython3",
   "version": "3.9.7"
  }
 },
 "nbformat": 4,
 "nbformat_minor": 5
}
