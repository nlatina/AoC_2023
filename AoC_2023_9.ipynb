{
 "cells": [
  {
   "cell_type": "code",
   "execution_count": 25,
   "id": "96f69934",
   "metadata": {},
   "outputs": [],
   "source": [
    "'''day 9'''\n",
    "import numpy as np"
   ]
  },
  {
   "cell_type": "code",
   "execution_count": 22,
   "id": "cd6c2751",
   "metadata": {},
   "outputs": [],
   "source": [
    "with open('data/day9.txt', 'r') as day9:\n",
    "    #data = [line.strip().split(' ') for line in day9]\n",
    "    data = [[int(num) for num in line.strip().split(' ')] for line in day9]\n",
    "    "
   ]
  },
  {
   "cell_type": "code",
   "execution_count": 30,
   "id": "80c34a1d",
   "metadata": {},
   "outputs": [],
   "source": [
    "'''helper function'''\n",
    "def process_row(LIST):\n",
    "    ''' takes in a list of integers as input, outputs a list of lists of decreasing size            \n",
    "     ending with the row [0]*n '''\n",
    "    pyramid = [LIST]\n",
    "    while sum(np.absolute(pyramid[-1])) > 0:\n",
    "        pyramid.append([pyramid[-1][i+1] - pyramid[-1][i] for i in range(len(pyramid[-1]) -1)])\n",
    "    \n",
    "    return pyramid"
   ]
  },
  {
   "cell_type": "code",
   "execution_count": 40,
   "id": "c3172854",
   "metadata": {},
   "outputs": [
    {
     "name": "stdout",
     "output_type": "stream",
     "text": [
      "1581679977\n"
     ]
    }
   ],
   "source": [
    "''' part 1 '''\n",
    "\n",
    "### list to store extrapolated values\n",
    "final_answer = []\n",
    "\n",
    "### for each row in the initial dataset:\n",
    "for row in data:\n",
    "    ### pull out the last entry for each subtraction pyramid\n",
    "    extrapolate_front = [sublist[-1] for sublist in process_row(row)][::-1]\n",
    "    ### initialize the extrapolation with a 0, per instructions\n",
    "    extend = [0]\n",
    "    \n",
    "    ### extrapolate backwards via addition\n",
    "    for i in extrapolate_front[1:]:\n",
    "        extend.append(i + extend[-1])\n",
    "    final_answer.append(extend[-1])\n",
    "\n",
    "print(sum(final_answer))"
   ]
  }
 ],
 "metadata": {
  "kernelspec": {
   "display_name": "Python 3 (ipykernel)",
   "language": "python",
   "name": "python3"
  },
  "language_info": {
   "codemirror_mode": {
    "name": "ipython",
    "version": 3
   },
   "file_extension": ".py",
   "mimetype": "text/x-python",
   "name": "python",
   "nbconvert_exporter": "python",
   "pygments_lexer": "ipython3",
   "version": "3.9.7"
  }
 },
 "nbformat": 4,
 "nbformat_minor": 5
}
