{
 "cells": [
  {
   "cell_type": "code",
   "execution_count": 176,
   "id": "97efc999",
   "metadata": {},
   "outputs": [],
   "source": [
    "'''day 15 '''\n",
    "from functools import reduce \n",
    "import numpy as np\n",
    "\n",
    "with open('data/day15.txt', 'r') as day15:\n",
    "    data = list(day15)\n",
    "    data = [chunk.strip() for chunk in data[0].split(',')]"
   ]
  },
  {
   "cell_type": "code",
   "execution_count": 177,
   "id": "7e8ae858",
   "metadata": {},
   "outputs": [
    {
     "name": "stdout",
     "output_type": "stream",
     "text": [
      "510792\n"
     ]
    }
   ],
   "source": [
    "def day_15(Current, Next):\n",
    "    return ((Current + Next)*17) % 256\n",
    "\n",
    "final_answer = []\n",
    "\n",
    "for chunk in data:\n",
    "    chunk = list(chunk)\n",
    "    asci = list(map(ord, chunk))\n",
    "    num = 0\n",
    "    for c in asci:\n",
    "        num = day_15(num, c)\n",
    "    final_answer.append(num)\n",
    "\n",
    "print(sum(final_answer))"
   ]
  },
  {
   "cell_type": "code",
   "execution_count": 179,
   "id": "24950e56",
   "metadata": {},
   "outputs": [],
   "source": [
    "''' part 2 '''\n",
    "\n",
    "data2 = []\n",
    "for chunk in data:\n",
    "    if '=' in chunk:\n",
    "        label = chunk.split('=')[0]\n",
    "        label_chars = list(label)\n",
    "        asci = list(map(ord, label_chars))\n",
    "        num = 0\n",
    "        for c in asci:\n",
    "            num = day_15(num, c)\n",
    "        \n",
    "        data2.append((num, label, chunk.split('=')[1]))\n",
    "    elif '-' in chunk:\n",
    "        label = chunk.split('-')[0]\n",
    "        label_chars = list(label)\n",
    "        asci = list(map(ord, label_chars))\n",
    "        num = 0\n",
    "        for c in asci:\n",
    "            num = day_15(num, c)\n",
    "        data2.append((num, label, '-'))"
   ]
  },
  {
   "cell_type": "code",
   "execution_count": 180,
   "id": "f78b6298",
   "metadata": {},
   "outputs": [
    {
     "name": "stdout",
     "output_type": "stream",
     "text": [
      "269410\n"
     ]
    }
   ],
   "source": [
    "final_ans = {}\n",
    "for tup in data2:\n",
    "    if tup[-1] == '-':\n",
    "        if tup[0] in final_ans:\n",
    "            booll = [tup[1] != lab[0] for lab in final_ans[tup[0]]]\n",
    "            final_ans[tup[0]] = [lab for lab, include in zip(final_ans[tup[0]], booll) if include]\n",
    "    else:\n",
    "        if tup[0] not in final_ans:\n",
    "            final_ans[tup[0]] = []\n",
    "            \n",
    "        booll = [tup[1] == lab[0] for lab in final_ans[tup[0]]]\n",
    "        if True in booll:\n",
    "            final_ans[tup[0]][booll.index(True)] = (tup[1], tup[2])\n",
    "        else:\n",
    "            final_ans[tup[0]].append((tup[1], tup[2])) \n",
    "\n",
    "\n",
    "full_boxes = [key for key in final_ans.keys() if final_ans[key]]\n",
    "\n",
    "power = 0\n",
    "for box in full_boxes:\n",
    "    index = 1\n",
    "    for lense in final_ans[box]:\n",
    "        power += ((box+1) * index * int(lense[1]))\n",
    "        index += 1\n",
    "print(power)"
   ]
  }
 ],
 "metadata": {
  "kernelspec": {
   "display_name": "Python 3 (ipykernel)",
   "language": "python",
   "name": "python3"
  },
  "language_info": {
   "codemirror_mode": {
    "name": "ipython",
    "version": 3
   },
   "file_extension": ".py",
   "mimetype": "text/x-python",
   "name": "python",
   "nbconvert_exporter": "python",
   "pygments_lexer": "ipython3",
   "version": "3.9.7"
  }
 },
 "nbformat": 4,
 "nbformat_minor": 5
}
