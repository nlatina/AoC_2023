{
 "cells": [
  {
   "cell_type": "code",
   "execution_count": 319,
   "id": "534fc28c",
   "metadata": {},
   "outputs": [],
   "source": [
    "'''day 13'''\n",
    "import numpy as np"
   ]
  },
  {
   "cell_type": "code",
   "execution_count": 320,
   "id": "4e915f4d",
   "metadata": {},
   "outputs": [],
   "source": [
    "with open('data/day13.txt', 'r') as day13:\n",
    "    data = [line.strip() for line in day13]\n",
    "    "
   ]
  },
  {
   "cell_type": "code",
   "execution_count": 322,
   "id": "dc946054",
   "metadata": {},
   "outputs": [],
   "source": [
    "dataset = []\n",
    "accumulator = []\n",
    "data.append('') ### annoying bug fix, prevents last grid from dissapearing\n",
    "for line in data:\n",
    "    if line:\n",
    "        accumulator.append(line)\n",
    "    else:\n",
    "        dataset.append(np.array([list(row) for row in accumulator]))\n",
    "        accumulator = []"
   ]
  },
  {
   "cell_type": "code",
   "execution_count": 323,
   "id": "f4048ba5",
   "metadata": {},
   "outputs": [],
   "source": [
    "# from functools import cache\n",
    "# @cache\n",
    "def helper_fn(array):\n",
    "    if len(array) <= 1:\n",
    "        return True\n",
    "    if all(array[0] == array[-1]):\n",
    "        return helper_fn(array[1:-1])\n",
    "    return False\n",
    "# def is_palindrome(array):\n",
    "#     check = helper_fn(array):\n",
    "#         if check:\n",
    "#             return 1\n",
    "#         else:\n",
    "            \n",
    "def is_palindrome(array, rows = 0, guess = False, zoom = None):\n",
    "    if len(array) <= 1:\n",
    "        if guess:\n",
    "            return [1, rows, zoom]\n",
    "        else: \n",
    "            return 0\n",
    "    \n",
    "    if zoom == 'top':\n",
    "        if helper_fn(array):\n",
    "            if len(array) == 3:\n",
    "                return is_palindrome(array[:-1], rows = rows+1, guess = False, zoom = 'top')\n",
    "            return [1, rows, zoom]\n",
    "        else:\n",
    "            if len(array) <= 1:\n",
    "                return 0\n",
    "            else:\n",
    "                return is_palindrome(array[:-1], rows = rows + 1, guess = False, zoom = 'top')\n",
    "    elif zoom == 'bottom':\n",
    "        if helper_fn(array):\n",
    "            return [1, rows, zoom]\n",
    "        else:\n",
    "            if len(array) <= 1:\n",
    "                return 0\n",
    "            else:\n",
    "                return is_palindrome(array[1:], rows = rows + 1, guess = False, zoom = 'bottom')\n",
    "    else:\n",
    "        if helper_fn(array):\n",
    "            return [1, rows, zoom]\n",
    "        else:\n",
    "            if (not guess) or (len(array) >= 4):\n",
    "                return (is_palindrome(array[:-1], rows = rows + 1, guess = False, zoom = 'top') or\n",
    "                        is_palindrome(array[1:], rows = rows + 1, guess = False, zoom = 'bottom'))\n",
    "            else:\n",
    "                return 0\n"
   ]
  },
  {
   "cell_type": "code",
   "execution_count": 325,
   "id": "be35ce74",
   "metadata": {},
   "outputs": [
    {
     "ename": "TypeError",
     "evalue": "'int' object is not subscriptable",
     "output_type": "error",
     "traceback": [
      "\u001b[0;31m---------------------------------------------------------------------------\u001b[0m",
      "\u001b[0;31mTypeError\u001b[0m                                 Traceback (most recent call last)",
      "\u001b[0;32m/var/folders/h4/77l8l2bd37z5_jkwbw_75nsw0000gn/T/ipykernel_30234/1982103805.py\u001b[0m in \u001b[0;36m<module>\u001b[0;34m\u001b[0m\n\u001b[1;32m     19\u001b[0m     \u001b[0;31m#print(status)\u001b[0m\u001b[0;34m\u001b[0m\u001b[0;34m\u001b[0m\u001b[0m\n\u001b[1;32m     20\u001b[0m \u001b[0;34m\u001b[0m\u001b[0m\n\u001b[0;32m---> 21\u001b[0;31m     \u001b[0;32mif\u001b[0m \u001b[0mstatus\u001b[0m\u001b[0;34m[\u001b[0m\u001b[0;36m2\u001b[0m\u001b[0;34m]\u001b[0m \u001b[0;34m==\u001b[0m \u001b[0;34m'top'\u001b[0m\u001b[0;34m:\u001b[0m\u001b[0;34m\u001b[0m\u001b[0;34m\u001b[0m\u001b[0m\n\u001b[0m\u001b[1;32m     22\u001b[0m         \u001b[0maddition\u001b[0m \u001b[0;34m=\u001b[0m \u001b[0;34m(\u001b[0m\u001b[0;34m(\u001b[0m\u001b[0mlen\u001b[0m\u001b[0;34m(\u001b[0m\u001b[0mar\u001b[0m\u001b[0;34m[\u001b[0m\u001b[0;34m:\u001b[0m\u001b[0;34m,\u001b[0m\u001b[0;36m0\u001b[0m\u001b[0;34m]\u001b[0m\u001b[0;34m)\u001b[0m \u001b[0;34m-\u001b[0m \u001b[0mstatus\u001b[0m\u001b[0;34m[\u001b[0m\u001b[0;36m1\u001b[0m\u001b[0;34m]\u001b[0m\u001b[0;34m)\u001b[0m\u001b[0;34m//\u001b[0m\u001b[0;36m2\u001b[0m\u001b[0;34m)\u001b[0m\u001b[0;34m*\u001b[0m\u001b[0;34m(\u001b[0m\u001b[0;36m1\u001b[0m \u001b[0;34m+\u001b[0m \u001b[0;36m99\u001b[0m\u001b[0;34m*\u001b[0m\u001b[0mhundred\u001b[0m\u001b[0;34m)\u001b[0m\u001b[0;34m\u001b[0m\u001b[0;34m\u001b[0m\u001b[0m\n\u001b[1;32m     23\u001b[0m         \u001b[0mtotal\u001b[0m \u001b[0;34m+=\u001b[0m \u001b[0maddition\u001b[0m\u001b[0;34m\u001b[0m\u001b[0;34m\u001b[0m\u001b[0m\n",
      "\u001b[0;31mTypeError\u001b[0m: 'int' object is not subscriptable"
     ]
    }
   ],
   "source": [
    "total = 0\n",
    "counter = 0\n",
    "\n",
    "n = 78\n",
    "scores = []\n",
    "for ar in dataset:\n",
    "    #print(counter)\n",
    "    #counter += 1\n",
    "    hundred = True\n",
    "    status = is_palindrome(ar)\n",
    "    \n",
    "    if status == 0:\n",
    "        #print('Transpose')\n",
    "        ar = ar.T\n",
    "        status = is_palindrome(ar)\n",
    "        hundred = False\n",
    "    \n",
    "    #print(ar)\n",
    "    #print(status)\n",
    "    \n",
    "    if status[2] == 'top':\n",
    "        addition = ((len(ar[:,0]) - status[1])//2)*(1 + 99*hundred)\n",
    "        total += addition\n",
    "    else:\n",
    "        addition = ((len(ar[:,0]) - status[1])//2 + status[1])*(1 + 99*hundred)\n",
    "        total += addition\n",
    "    #print(addition)\n",
    "    scores.append(addition)\n",
    "    \n",
    "print(total)"
   ]
  }
 ],
 "metadata": {
  "kernelspec": {
   "display_name": "Python 3 (ipykernel)",
   "language": "python",
   "name": "python3"
  },
  "language_info": {
   "codemirror_mode": {
    "name": "ipython",
    "version": 3
   },
   "file_extension": ".py",
   "mimetype": "text/x-python",
   "name": "python",
   "nbconvert_exporter": "python",
   "pygments_lexer": "ipython3",
   "version": "3.9.7"
  }
 },
 "nbformat": 4,
 "nbformat_minor": 5
}
