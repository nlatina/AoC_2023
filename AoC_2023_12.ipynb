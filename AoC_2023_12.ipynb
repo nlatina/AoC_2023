{
 "cells": [
  {
   "cell_type": "code",
   "execution_count": 1,
   "id": "c134a7f9",
   "metadata": {},
   "outputs": [],
   "source": [
    "''' day 12 '''\n",
    "\n",
    "from itertools import groupby\n",
    "import math as m\n",
    "import numpy as np"
   ]
  },
  {
   "cell_type": "code",
   "execution_count": 5,
   "id": "eed44f0c",
   "metadata": {},
   "outputs": [],
   "source": [
    "with open('data/day12.txt', 'r') as day12:\n",
    "    data = []\n",
    "    for line in day12:\n",
    "        separate = line.strip().split(\" \")\n",
    "        numbers = [int(num) for num in separate[1].split(',')]\n",
    "        data.append([separate[0], numbers])\n",
    "        \n",
    "        "
   ]
  },
  {
   "cell_type": "code",
   "execution_count": 6,
   "id": "632c2517",
   "metadata": {},
   "outputs": [],
   "source": [
    "def tracker(groups):\n",
    "    new_groups = list(groups)\n",
    "    new_groups[0] -= 1\n",
    "    return tuple(new_groups)\n",
    "\n",
    "\n",
    "def day_12_solver(schematic, groups, continuity = False): #continuity means this: \n",
    "    # is a current group in the midst of being placed?\n",
    "    \n",
    "    # Base cases\n",
    "    if len(schematic) == 0:\n",
    "        if sum(groups) == 0:\n",
    "            return 1\n",
    "        else: \n",
    "            return 0\n",
    "\n",
    "    if sum(groups) == 0:\n",
    "        if '#' in schematic:\n",
    "            return 0 \n",
    "        else:\n",
    "            return 1\n",
    "    \n",
    "    if sum(groups) > len(schematic):\n",
    "        return 0\n",
    "    \n",
    "    arrangements = 0\n",
    "    \n",
    "    if groups[0] == 0:\n",
    "        if schematic[0] == '#':\n",
    "            return 0\n",
    "        else:\n",
    "            arrangements += day_12_solver(schematic[1:], groups[1:], False)\n",
    "        \n",
    "\n",
    "    elif schematic[0] == \"#\":\n",
    "        arrangements +=  day_12_solver(schematic[1:], tracker(groups), True)\n",
    "    elif schematic[0] == '.':\n",
    "        if continuity:\n",
    "            return 0\n",
    "        arrangements += day_12_solver(schematic[1:], groups)\n",
    "        \n",
    "    elif schematic[0] == \"?\":\n",
    "        # Try placing a '.' or a '#'\n",
    "        if not continuity:\n",
    "            arrangements += day_12_solver(schematic[1:], groups)\n",
    "        if len(groups) > 0 and len(schematic) - 1 >= groups[0] or len(groups) == 1:\n",
    "            arrangements += day_12_solver(schematic[1:], tracker(groups), True)\n",
    "\n",
    "    return arrangements"
   ]
  },
  {
   "cell_type": "code",
   "execution_count": 7,
   "id": "25df64e5",
   "metadata": {},
   "outputs": [
    {
     "name": "stdout",
     "output_type": "stream",
     "text": [
      "7204\n"
     ]
    }
   ],
   "source": [
    "'''part 1'''\n",
    "final_answer = []\n",
    "for task in data:\n",
    "    final_answer.append(day_12_solver(task[0], task[1]))\n",
    "print(sum(final_answer))"
   ]
  },
  {
   "cell_type": "code",
   "execution_count": 13,
   "id": "44a8ef67",
   "metadata": {},
   "outputs": [
    {
     "name": "stdout",
     "output_type": "stream",
     "text": [
      "1672318386674\n"
     ]
    }
   ],
   "source": [
    "'''part 2'''\n",
    "from functools import cache\n",
    "\n",
    "@cache\n",
    "def day_12_solver(schematic, groups, continuity = False): #continuity means this: \n",
    "    # is a current group in the midst of being placed?\n",
    "    \n",
    "    # Base cases\n",
    "    if len(schematic) == 0:\n",
    "        if sum(groups) == 0:\n",
    "            return 1\n",
    "        else: \n",
    "            return 0\n",
    "\n",
    "    if sum(groups) == 0:\n",
    "        if '#' in schematic:\n",
    "            return 0 \n",
    "        else:\n",
    "            return 1\n",
    "    \n",
    "    if sum(groups) > len(schematic):\n",
    "        return 0\n",
    "    \n",
    "    arrangements = 0\n",
    "    \n",
    "    if groups[0] == 0:\n",
    "        if schematic[0] == '#':\n",
    "            return 0\n",
    "        else:\n",
    "            arrangements += day_12_solver(schematic[1:], groups[1:], False)\n",
    "        \n",
    "\n",
    "    elif schematic[0] == \"#\":\n",
    "        arrangements +=  day_12_solver(schematic[1:], tracker(groups), True)\n",
    "    elif schematic[0] == '.':\n",
    "        if continuity:\n",
    "            return 0\n",
    "        arrangements += day_12_solver(schematic[1:], groups)\n",
    "        \n",
    "    elif schematic[0] == \"?\":\n",
    "        # Try placing a '.' or a '#'\n",
    "        if not continuity:\n",
    "            arrangements += day_12_solver(schematic[1:], groups)\n",
    "        if len(groups) > 0 and len(schematic) - 1 >= groups[0] or len(groups) == 1:\n",
    "            arrangements += day_12_solver(schematic[1:], tracker(groups), True)\n",
    "\n",
    "    return arrangements\n",
    "\n",
    "data_2 = [['?'.join((schematic, schematic, schematic, schematic, schematic)), (group)*5] for schematic, group in data]\n",
    "data_2 = [(first, tuple(second)) for first, second in data_2] # for cache, needs tuples\n",
    "\n",
    "final_answer_2 = []\n",
    "for task in data_2:\n",
    "    final_answer_2.append(day_12_solver(task[0], task[1]))\n",
    "print(sum(final_answer_2))"
   ]
  }
 ],
 "metadata": {
  "kernelspec": {
   "display_name": "Python 3 (ipykernel)",
   "language": "python",
   "name": "python3"
  },
  "language_info": {
   "codemirror_mode": {
    "name": "ipython",
    "version": 3
   },
   "file_extension": ".py",
   "mimetype": "text/x-python",
   "name": "python",
   "nbconvert_exporter": "python",
   "pygments_lexer": "ipython3",
   "version": "3.9.7"
  }
 },
 "nbformat": 4,
 "nbformat_minor": 5
}
