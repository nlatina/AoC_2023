{
 "cells": [
  {
   "cell_type": "code",
   "execution_count": 1,
   "id": "0a68402f",
   "metadata": {},
   "outputs": [],
   "source": [
    "import re\n",
    "from functools import cache\n",
    "\n",
    "with open('data/day19.txt', 'r') as day19:\n",
    "    data = day19.readlines()\n",
    "    \n",
    "parts = []\n",
    "workflows = {}\n",
    "\n",
    "for line in data:\n",
    "    if line[0] == '{':\n",
    "        parts.append(line.strip())\n",
    "        \n",
    "    elif line == '\\n' or not line:\n",
    "        continue\n",
    "        \n",
    "    else:\n",
    "        line = line.split('{')\n",
    "        part_name = line[0]\n",
    "        instructions = list(line[1].split('}')[0].split(','))\n",
    "        workflows[part_name] = instructions"
   ]
  },
  {
   "cell_type": "code",
   "execution_count": 2,
   "id": "1a01b072",
   "metadata": {},
   "outputs": [],
   "source": [
    "pattern = '\\d+'\n",
    "digit_finder = re.compile(pattern = pattern)\n",
    "\n",
    "def process(process_name):\n",
    "    flow = workflows[process_name]\n",
    "    for piece in flow:\n",
    "        if ':' in piece:\n",
    "            if '>' in piece:\n",
    "                pieces = piece.split(':')\n",
    "                destination = pieces[1]\n",
    "                number = int(pieces[0].split('>')[1])\n",
    "                if curr_part[pieces[0][0]] > number:\n",
    "                    if destination == 'A':\n",
    "                        return sum(list(curr_part.values()))\n",
    "                    elif destination == 'R':\n",
    "                        return 0\n",
    "                    else:\n",
    "                        return process(destination)\n",
    "            elif '<' in piece:\n",
    "                pieces = piece.split(':')\n",
    "                destination = pieces[1]\n",
    "                number = int(pieces[0].split('<')[1])\n",
    "                if curr_part[pieces[0][0]] < number:\n",
    "                    if destination == 'A':\n",
    "                        return sum(list(curr_part.values()))\n",
    "                    elif destination == 'R':\n",
    "                        return 0\n",
    "                    else:\n",
    "                        return process(destination)\n",
    "        elif piece == 'A':\n",
    "            return sum(list(curr_part.values()))\n",
    "        elif piece == 'R':\n",
    "            return 0\n",
    "        else:\n",
    "            return process(piece)"
   ]
  },
  {
   "cell_type": "code",
   "execution_count": 3,
   "id": "d7abf2fc",
   "metadata": {},
   "outputs": [
    {
     "name": "stdout",
     "output_type": "stream",
     "text": [
      "374873\n"
     ]
    }
   ],
   "source": [
    "'''part 1'''\n",
    "\n",
    "total = 0\n",
    "for part in parts:\n",
    "    \n",
    "    curr_part = {key:value for key, value in zip(['x', 'm', 'a', 's'], \n",
    "                        map(int, digit_finder.findall(part)))}\n",
    "    total += process('in')\n",
    "    \n",
    "print(total)"
   ]
  },
  {
   "cell_type": "code",
   "execution_count": 77,
   "id": "1530ed1b",
   "metadata": {},
   "outputs": [
    {
     "name": "stdout",
     "output_type": "stream",
     "text": [
      "200\n"
     ]
    }
   ],
   "source": [
    "'''part 2'''"
   ]
  }
 ],
 "metadata": {
  "kernelspec": {
   "display_name": "Python 3 (ipykernel)",
   "language": "python",
   "name": "python3"
  },
  "language_info": {
   "codemirror_mode": {
    "name": "ipython",
    "version": 3
   },
   "file_extension": ".py",
   "mimetype": "text/x-python",
   "name": "python",
   "nbconvert_exporter": "python",
   "pygments_lexer": "ipython3",
   "version": "3.9.7"
  }
 },
 "nbformat": 4,
 "nbformat_minor": 5
}
