{
 "cells": [
  {
   "cell_type": "code",
   "execution_count": 2,
   "id": "596664f8",
   "metadata": {},
   "outputs": [],
   "source": [
    "with open('data/day1.txt', 'r') as day1:\n",
    "    data = [line.strip() for line in day1]"
   ]
  },
  {
   "cell_type": "code",
   "execution_count": 3,
   "id": "41425f76",
   "metadata": {},
   "outputs": [
    {
     "name": "stdout",
     "output_type": "stream",
     "text": [
      "55029\n"
     ]
    }
   ],
   "source": [
    "'''part 1'''\n",
    "digits = list(range(11))\n",
    "digits = [str(ele) for ele in digits]\n",
    "total_digits = []\n",
    "for line in data:\n",
    "    curr_digits = []\n",
    "    for i in line:\n",
    "        if i in digits:\n",
    "            curr_digits.append(i)\n",
    "    calibration = int(curr_digits[0] + curr_digits[-1])\n",
    "    total_digits.append(calibration)\n",
    "\n",
    "\n",
    "print(sum(total_digits))\n"
   ]
  },
  {
   "cell_type": "code",
   "execution_count": 5,
   "id": "c9ffe649",
   "metadata": {},
   "outputs": [
    {
     "name": "stdout",
     "output_type": "stream",
     "text": [
      "55686\n"
     ]
    }
   ],
   "source": [
    "'''part 2'''\n",
    "import re\n",
    "#data = ['eighthree', 'eightwo', 'eighttwo']\n",
    "### create dictionary used to map 'two' to 2 later, etc.\n",
    "digits_num = list(range(1,10))\n",
    "digits_str = ['one', 'two', 'three', 'four', 'five', 'six', 'seven', 'eight', 'nine']\n",
    "conversion_dict = {key:value for key, value in zip(digits_str, digits_num)} \n",
    "\n",
    "### create regex pattern to parse out all numbers\n",
    "pattern = r'(?=(one|two|three|four|five|six|seven|eight|nine|\\d))'\n",
    "\n",
    "\n",
    "### empty list to store each line's corresponding 2 digit number\n",
    "total_digits = []\n",
    "\n",
    "for line in data:\n",
    "    ### pull out each number\n",
    "    matches = re.findall(pattern, line)\n",
    "    ### store first and last number in matches\n",
    "    calibration = [matches[0], matches[-1]]\n",
    "    \n",
    "    ### utilize dictionary to map words to numbers\n",
    "    if calibration[0] in digits_str:\n",
    "        calibration[0] = conversion_dict[calibration[0]]\n",
    "    if calibration[1] in digits_str:\n",
    "        calibration[1] = conversion_dict[calibration[1]]\n",
    "        \n",
    "    ### concatenate digits and convert to int, store in total_digits\n",
    "    total_digits.append(int(str(calibration[0]) + str(calibration[1])))\n",
    "\n",
    "print(sum(total_digits))\n"
   ]
  }
 ],
 "metadata": {
  "kernelspec": {
   "display_name": "Python 3 (ipykernel)",
   "language": "python",
   "name": "python3"
  },
  "language_info": {
   "codemirror_mode": {
    "name": "ipython",
    "version": 3
   },
   "file_extension": ".py",
   "mimetype": "text/x-python",
   "name": "python",
   "nbconvert_exporter": "python",
   "pygments_lexer": "ipython3",
   "version": "3.9.7"
  }
 },
 "nbformat": 4,
 "nbformat_minor": 5
}
