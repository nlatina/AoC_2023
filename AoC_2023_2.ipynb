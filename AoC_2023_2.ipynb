{
 "cells": [
  {
   "cell_type": "code",
   "execution_count": null,
   "id": "26c787d8",
   "metadata": {},
   "outputs": [],
   "source": [
    "'''day 2'''"
   ]
  },
  {
   "cell_type": "code",
   "execution_count": 55,
   "id": "61a5d640",
   "metadata": {},
   "outputs": [],
   "source": [
    "with open('data/day2.txt', 'r') as day2:\n",
    "    data = [line.strip() for line in day2]"
   ]
  },
  {
   "cell_type": "code",
   "execution_count": 58,
   "id": "7a1c3ba9",
   "metadata": {},
   "outputs": [
    {
     "name": "stdout",
     "output_type": "stream",
     "text": [
      "2377\n"
     ]
    }
   ],
   "source": [
    "'''part 1'''\n",
    "offenders = []\n",
    "red_limit, green_limit, blue_limit = (12, 13, 14)\n",
    "\n",
    "for line in data:\n",
    "    ID = int(line.split(':')[0].split(\" \")[1])\n",
    "    counts = line.split(':')[1].split(';')\n",
    "    for item in counts:\n",
    "        if 'green' in item:\n",
    "            if int(item.split('green')[0].split(',')[-1].strip()) > green_limit:\n",
    "                offenders.append(ID)\n",
    "                break\n",
    "        if 'blue' in item:\n",
    "            if int(item.split('blue')[0].split(',')[-1].strip()) > blue_limit:\n",
    "                offenders.append(ID)\n",
    "                break\n",
    "        if 'red' in item:\n",
    "            #print(int(item.split('red')[0].split(',')[-1].strip()))\n",
    "            if int(item.split('red')[0].split(',')[-1].strip()) > red_limit:\n",
    "                offenders.append(ID)\n",
    "                break\n",
    "\n",
    "passed = set(list(range(1, 101))) - set(offenders)\n",
    "\n",
    "print(sum(passed))"
   ]
  },
  {
   "cell_type": "code",
   "execution_count": 59,
   "id": "cdb1cce7",
   "metadata": {},
   "outputs": [
    {
     "name": "stdout",
     "output_type": "stream",
     "text": [
      "71220\n"
     ]
    }
   ],
   "source": [
    "'''part 2'''\n",
    "\n",
    "powers = []\n",
    "for line in data:\n",
    "    green, red, blue = [[],[],[]]\n",
    "    ID = int(line.split(':')[0].split(\" \")[1])\n",
    "    counts = line.split(':')[1].split(';')\n",
    "    for item in counts:\n",
    "        if 'green' in item:\n",
    "            green.append(int(item.split('green')[0].split(',')[-1].strip()))\n",
    "        if 'blue' in item:\n",
    "            blue.append(int(item.split('blue')[0].split(',')[-1].strip()))\n",
    "        if 'red' in item:\n",
    "            red.append(int(item.split('red')[0].split(',')[-1].strip()))\n",
    "    powers.append(max(green) * max(blue) * max(red))\n",
    "print(sum(powers))\n"
   ]
  }
 ],
 "metadata": {
  "kernelspec": {
   "display_name": "Python 3 (ipykernel)",
   "language": "python",
   "name": "python3"
  },
  "language_info": {
   "codemirror_mode": {
    "name": "ipython",
    "version": 3
   },
   "file_extension": ".py",
   "mimetype": "text/x-python",
   "name": "python",
   "nbconvert_exporter": "python",
   "pygments_lexer": "ipython3",
   "version": "3.9.7"
  }
 },
 "nbformat": 4,
 "nbformat_minor": 5
}
