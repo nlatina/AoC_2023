{
 "cells": [
  {
   "cell_type": "code",
   "execution_count": 5,
   "id": "ad6a5305",
   "metadata": {},
   "outputs": [
    {
     "name": "stdout",
     "output_type": "stream",
     "text": [
      "[['.' '.' 'O' ... '.' '.' '.']\n",
      " ['.' '#' 'O' ... '#' '.' 'O']\n",
      " ['#' '.' '#' ... '.' 'O' 'O']\n",
      " ...\n",
      " ['O' '.' '.' ... 'O' '.' '.']\n",
      " ['.' '.' '#' ... '.' '.' '.']\n",
      " ['.' 'O' '.' ... '.' '.' 'O']]\n"
     ]
    }
   ],
   "source": [
    "'''day 14'''\n",
    "import numpy as np\n",
    "\n",
    "with open('data/day14.txt', 'r') as day14:\n",
    "    data = [list(line.strip()) for line in day14]\n",
    "data = np.array(data)"
   ]
  },
  {
   "cell_type": "code",
   "execution_count": 27,
   "id": "e7eba36d",
   "metadata": {},
   "outputs": [
    {
     "name": "stdout",
     "output_type": "stream",
     "text": [
      "['.' '.' '#' 'O' '#' '#' 'O' 'O' '.' 'O' 'O' 'O' '.' '.' '.' '.' '.' 'O'\n",
      " '.' '#' '#' '.' '.' '#' '.' '.' '.' 'O' 'O' '.' '.' '.' '.' '#' '#' '.'\n",
      " '#' '.' 'O' 'O' '.' '.' '.' 'O' '.' '.' '.' '.' 'O' '#' '#' '#' 'O' 'O'\n",
      " '#' '#' '.' '#' 'O' '.' '.' '#' '.' '.' '#' '.' '.' '.' '.' '.' '.' '.'\n",
      " '.' 'O' '.' 'O' '.' 'O' '.' 'O' 'O' '.' '.' '.' '.' '.' '#' '.' '.' '.'\n",
      " '.' '.' '#' '.' '#' 'O' '#' 'O' '.' '.']\n"
     ]
    }
   ],
   "source": [
    "def process_cols(List):\n",
    "    sorted_chunks = []\n",
    "    \n",
    "    bits = ''.join(List).split('#')\n",
    "    for chunk in bits:\n",
    "        Os = chunk.count('O')\n",
    "        if Os != (L:=len(chunk)) and Os > 0:\n",
    "            sort = [\"O\"] * Os + [\".\"] * (L-Os)\n",
    "            sort = ''.join(sort)\n",
    "            sorted_chunks.append(sort)\n",
    "        else:\n",
    "            sorted_chunks.append(chunk)\n",
    "    return '#'.join(sorted_chunks)"
   ]
  },
  {
   "cell_type": "code",
   "execution_count": 29,
   "id": "175e08bd",
   "metadata": {},
   "outputs": [],
   "source": [
    "''' part 1 '''\n",
    "for j in range(data.shape[1]):\n",
    "    data[:,j] = list(process_cols(data[:,j]))\n",
    "    \n",
    "total_load = 0\n",
    "for i in range(len(data)):\n",
    "    total_load += (len(data)-i) * list(data[i]).count('O')\n",
    "print(total_load)"
   ]
  },
  {
   "cell_type": "code",
   "execution_count": 105,
   "id": "2102bd65",
   "metadata": {},
   "outputs": [],
   "source": [
    "'''part 2'''\n",
    "\n",
    "with open('data/day14.txt', 'r') as day14:\n",
    "    data = [list(line.strip()) for line in day14]\n",
    "data = np.array(data)\n",
    "\n",
    "data = '''O....#....\n",
    "O.OO#....#\n",
    ".....##...\n",
    "OO.#O....O\n",
    ".O.....O#.\n",
    "O.#..O.#.#\n",
    "..O..#O..O\n",
    ".......O..\n",
    "#....###..\n",
    "#OO..#....'''.split('\\n')\n",
    "\n",
    "data = np.array([list(line) for line in test_data])\n"
   ]
  },
  {
   "cell_type": "code",
   "execution_count": 106,
   "id": "513a879e",
   "metadata": {},
   "outputs": [],
   "source": [
    "def spin_cycle(array):\n",
    "    \n",
    "    for j in range(array.shape[1]):\n",
    "        array[:,j] = list(process_cols(array[:,j]))\n",
    "        \n",
    "    for i in range(3):\n",
    "        array = np.rot90(array)\n",
    "        for j in range(array.shape[1]):\n",
    "            array[:,j] = list(process_cols(array[:,j]))\n",
    "            \n",
    "    return np.rot90(array)\n",
    "    "
   ]
  },
  {
   "cell_type": "code",
   "execution_count": 107,
   "id": "77423b76",
   "metadata": {},
   "outputs": [
    {
     "name": "stdout",
     "output_type": "stream",
     "text": [
      "87\n"
     ]
    }
   ],
   "source": [
    "seen = [''.join(data.copy().flatten())]\n",
    "count = 0\n",
    "cycle_nums = []\n",
    "for i in range(100000000):\n",
    "    data = spin_cycle(data)\n",
    "    if ''.join(data.flatten()) in seen:\n",
    "        if count == 1:\n",
    "            cycle_nums.append(len(seen))\n",
    "            break\n",
    "        count += 1\n",
    "        cycle_nums.append(len(seen))\n",
    "        seen = [''.join(data.flatten())]\n",
    "        \n",
    "    seen.append(''.join(data.copy().flatten()))\n",
    "    \n",
    "  \n",
    "\n",
    "total_load = 0\n",
    "for i in range(len(data)):\n",
    "    total_load += (len(data)-i) * list(data[i]).count('O')\n",
    "print(total_load)"
   ]
  },
  {
   "cell_type": "code",
   "execution_count": 108,
   "id": "4a24eff5",
   "metadata": {},
   "outputs": [
    {
     "name": "stdout",
     "output_type": "stream",
     "text": [
      "100100\n"
     ]
    }
   ],
   "source": [
    "\n",
    "cycles = cycle_nums[0] + ((1000000000-cycle_nums[0]) % cycle_nums[1])\n",
    "\n",
    "with open('data/day14.txt', 'r') as day14:\n",
    "    data = [list(line.strip()) for line in day14]\n",
    "data = np.array(data)\n",
    "\n",
    "for i in range(cycles):\n",
    "    data = spin_cycle(data)\n",
    "    \n",
    "    \n",
    "total_load = 0\n",
    "for i in range(len(data)):\n",
    "    total_load += (len(data)-i) * list(data[i]).count('O')\n",
    "print(total_load)"
   ]
  },
  {
   "cell_type": "code",
   "execution_count": 97,
   "id": "e833955a",
   "metadata": {},
   "outputs": [
    {
     "name": "stdout",
     "output_type": "stream",
     "text": [
      "[153, 15]\n"
     ]
    }
   ],
   "source": [
    "print(cycle_nums)"
   ]
  },
  {
   "cell_type": "code",
   "execution_count": 99,
   "id": "ca4ea2ab",
   "metadata": {},
   "outputs": [
    {
     "name": "stdout",
     "output_type": "stream",
     "text": [
      "7\n"
     ]
    }
   ],
   "source": [
    "print(cycles)"
   ]
  },
  {
   "cell_type": "code",
   "execution_count": 102,
   "id": "4ec5fc45",
   "metadata": {},
   "outputs": [
    {
     "data": {
      "text/plain": [
       "77"
      ]
     },
     "execution_count": 102,
     "metadata": {},
     "output_type": "execute_result"
    }
   ],
   "source": [
    "9+7+(6*3)+10+16+9+4+4"
   ]
  }
 ],
 "metadata": {
  "kernelspec": {
   "display_name": "Python 3 (ipykernel)",
   "language": "python",
   "name": "python3"
  },
  "language_info": {
   "codemirror_mode": {
    "name": "ipython",
    "version": 3
   },
   "file_extension": ".py",
   "mimetype": "text/x-python",
   "name": "python",
   "nbconvert_exporter": "python",
   "pygments_lexer": "ipython3",
   "version": "3.9.7"
  }
 },
 "nbformat": 4,
 "nbformat_minor": 5
}
