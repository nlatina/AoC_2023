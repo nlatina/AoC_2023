{
 "cells": [
  {
   "cell_type": "code",
   "execution_count": 51,
   "id": "821d46a4",
   "metadata": {},
   "outputs": [],
   "source": [
    "'''day 18'''\n",
    "import numpy as np\n",
    "with open('data/day18.txt', 'r') as day18:\n",
    "    data = [line.strip().split(\" \") for line in day18]\n",
    "data = [[direction, int(length), color.split('#')[1].split(')')[0]] for direction, length, color in data]"
   ]
  },
  {
   "cell_type": "code",
   "execution_count": 26,
   "id": "1b36ee62",
   "metadata": {},
   "outputs": [],
   "source": [
    "'''test data'''\n",
    "data = '''R 6 (#70c710)\n",
    "D 5 (#0dc571)\n",
    "L 2 (#5713f0)\n",
    "D 2 (#d2c081)\n",
    "R 2 (#59c680)\n",
    "D 2 (#411b91)\n",
    "L 5 (#8ceee2)\n",
    "U 2 (#caa173)\n",
    "L 1 (#1b58a2)\n",
    "U 2 (#caa171)\n",
    "R 2 (#7807d2)\n",
    "U 3 (#a77fa3)\n",
    "L 2 (#015232)\n",
    "U 2 (#7a21e3)'''\n",
    "data = [line.split(' ') for line in data.split('\\n')]\n",
    "data = [[direction, int(length), color] for direction, length, color in data]"
   ]
  },
  {
   "cell_type": "code",
   "execution_count": 52,
   "id": "a500ccd1",
   "metadata": {},
   "outputs": [
    {
     "name": "stdout",
     "output_type": "stream",
     "text": [
      "width = 390, height = 86\n",
      "width2 = -179, height2 = -230\n"
     ]
    }
   ],
   "source": [
    "'''part 1'''\n",
    "width = 0\n",
    "widths = []\n",
    "height = 0\n",
    "heights = []\n",
    "for instruction in data:\n",
    "    if instruction[0] == 'R':\n",
    "        width += instruction[1]\n",
    "        widths.append(width)\n",
    "    elif instruction[0] == 'L':\n",
    "        width -= instruction[1]\n",
    "        widths.append(width)\n",
    "    elif instruction[0] == 'U':\n",
    "        height -= instruction[1]\n",
    "        heights.append(height)\n",
    "    elif instruction[0] == 'D':\n",
    "        height += instruction[1]\n",
    "        heights.append(height)\n",
    "width = max(widths)\n",
    "height = max(heights)\n",
    "width2 = min(widths)\n",
    "height2 = min(heights)\n",
    "print(f'width = {width}, height = {height}')\n",
    "print(f'width2 = {width2}, height2 = {height2}')"
   ]
  },
  {
   "cell_type": "code",
   "execution_count": 54,
   "id": "61c2060b",
   "metadata": {},
   "outputs": [
    {
     "name": "stdout",
     "output_type": "stream",
     "text": [
      "106459\n"
     ]
    }
   ],
   "source": [
    "position = [-height2 + 5, -width2 + 5]\n",
    "field = np.array([[0] * (width - width2 + 10)] * (height - height2 + 10))\n",
    "border_coords = []\n",
    "\n",
    "for direction, steps, *_ in data:\n",
    "    if direction == 'R':\n",
    "        \n",
    "        for i in range(steps):\n",
    "            border_coords.append((position[0], position[1] + i))      \n",
    "            \n",
    "        field[position[0]:, position[1]:position[1] + steps] = (\n",
    "            field[position[0]:, position[1]:position[1] + steps]*-1 + 1)\n",
    "        position[1] += steps\n",
    "        \n",
    "    elif direction == 'L':\n",
    "        \n",
    "        for i in range(steps):\n",
    "            border_coords.append((position[0], position[1] - i))    \n",
    "            \n",
    "        field[position[0]+1:, position[1]-steps:position[1]] = (\n",
    "            field[position[0] + 1:, position[1]-steps:position[1]]*-1 + 1)\n",
    "        position[1] -= steps\n",
    "        \n",
    "    elif direction == 'U':\n",
    "        \n",
    "        for i in range(steps):\n",
    "            border_coords.append((position[0] - i, position[1]))   \n",
    "            \n",
    "        field[position[0] - steps:position[0], position[1]] = 1\n",
    "        position[0] -= steps\n",
    "        \n",
    "    elif direction == 'D':\n",
    "        \n",
    "        for i in range(steps):\n",
    "            border_coords.append((position[0] + i, position[1])) \n",
    "            \n",
    "        field[position[0]:position[0] + steps, position[1]] = 1\n",
    "        position[0] += steps \n",
    "\n",
    "    \n",
    "for x, y in border_coords:\n",
    "    field[x, y] = 1\n",
    "    \n",
    "print(sum(sum(field)))"
   ]
  },
  {
   "cell_type": "code",
   "execution_count": 55,
   "id": "be20207b",
   "metadata": {
    "scrolled": true
   },
   "outputs": [],
   "source": [
    "'''part 2, need to be smarter. use shoelace theorem'''\n",
    "\n",
    "# create new dataset\n",
    "expanded = []\n",
    "letter_map = {'0': 'R',\n",
    "             '1': 'D',\n",
    "             '2': 'L',\n",
    "             '3': 'U'}\n",
    "\n",
    "for *_, d in data:\n",
    "    expanded.append([letter_map[d[-1]], int(d[:-1], 16)])\n",
    "    \n",
    "def shoelace(verticies):\n",
    "    S1 = 0\n",
    "    S2 = 0\n",
    "    for i in range(len(verticies)-1):\n",
    "        S1 += verticies[i][0] * verticies[i+1][1]\n",
    "        S2 += verticies[i][1] * verticies[i+1][0]\n",
    "    return abs(S1 - S2) // 2"
   ]
  },
  {
   "cell_type": "code",
   "execution_count": 56,
   "id": "c114a903",
   "metadata": {},
   "outputs": [],
   "source": [
    "verticies = [(0,0)]\n",
    "perimiter = 0\n",
    "for d, l in expanded:\n",
    "    if d == 'L':\n",
    "        new_vertex = (verticies[-1][0], verticies[-1][1] - l)\n",
    "        verticies.append(new_vertex)\n",
    "    if d == 'R':\n",
    "        new_vertex = (verticies[-1][0], verticies[-1][1] + l)\n",
    "        verticies.append(new_vertex)\n",
    "    if d == 'U':\n",
    "        new_vertex = (verticies[-1][0] - l, verticies[-1][1])\n",
    "        verticies.append(new_vertex)\n",
    "    if d == 'D':\n",
    "        new_vertex = (verticies[-1][0] + l, verticies[-1][1])\n",
    "        verticies.append(new_vertex)\n",
    "    perimiter += l\n",
    "    \n",
    "# close the loop\n",
    "verticies.append(verticies[0])"
   ]
  },
  {
   "cell_type": "code",
   "execution_count": 57,
   "id": "4c250902",
   "metadata": {},
   "outputs": [
    {
     "name": "stdout",
     "output_type": "stream",
     "text": [
      "63806916814808\n"
     ]
    }
   ],
   "source": [
    "'''final answer, shoelace area + perimiter/2 + 1 '''\n",
    "print(shoelace(verticies) + perimiter//2 + 1)"
   ]
  },
  {
   "cell_type": "code",
   "execution_count": 58,
   "id": "e6ea6d50",
   "metadata": {},
   "outputs": [
    {
     "data": {
      "image/png": "[encoded data removed]",
      "text/plain": [
       "<Figure size 432x288 with 1 Axes>"
      ]
     },
     "metadata": {
      "needs_background": "light"
     },
     "output_type": "display_data"
    }
   ],
   "source": [
    "'''visualize polygon'''\n",
    "import matplotlib.pyplot as plt\n",
    "x, y = zip(*verticies)\n",
    "plt.plot(x,y)\n",
    "plt.show()"
   ]
  },
  {
   "cell_type": "code",
   "execution_count": null,
   "id": "18d9c486",
   "metadata": {},
   "outputs": [],
   "source": [
    "''' for visualization '''\n",
    "\n",
    "def generate_html_with_red_coords(data, coords):\n",
    "    html_output = \"<html><body><pre>\"\n",
    "    for i, row in enumerate(data):\n",
    "        for j, char in enumerate(row):\n",
    "            # Check if the current coordinate is in the list\n",
    "            if (i, j) in coords:\n",
    "                # If so, wrap the character in a span with red color\n",
    "                html_output += f\"<span style='color:red;'>{char}</span>\"\n",
    "            else:\n",
    "                html_output += char\n",
    "        html_output += \"\\n\"\n",
    "    html_output += \"</pre></body></html>\"\n",
    "    return html_output\n",
    "\n",
    "array = field.copy()\n",
    "\n",
    "# Convert numpy array to a 2D list of characters\n",
    "data_html = array.astype(str).tolist()\n",
    "\n",
    "# Coordinates to highlight (for example, the diagonal elements)\n",
    "coords = [(0,0),(-height2 + 5,-width2 + 5)]\n",
    "\n",
    "# Call the function\n",
    "html_output = generate_html_with_red_coords(data_html, coords)\n",
    "\n",
    "output_file_path = 'data/day_18_colored_output_final.html'\n",
    "\n",
    "\n",
    "# Write the output to an HTML file\n",
    "with open(output_file_path, 'w') as file:\n",
    "    file.write(html_output)"
   ]
  }
 ],
 "metadata": {
  "kernelspec": {
   "display_name": "Python 3 (ipykernel)",
   "language": "python",
   "name": "python3"
  },
  "language_info": {
   "codemirror_mode": {
    "name": "ipython",
    "version": 3
   },
   "file_extension": ".py",
   "mimetype": "text/x-python",
   "name": "python",
   "nbconvert_exporter": "python",
   "pygments_lexer": "ipython3",
   "version": "3.9.7"
  }
 },
 "nbformat": 4,
 "nbformat_minor": 5
}
