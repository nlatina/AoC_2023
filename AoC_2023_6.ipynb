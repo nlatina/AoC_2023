{
 "cells": [
  {
   "cell_type": "code",
   "execution_count": 91,
   "id": "b23a0e1f",
   "metadata": {},
   "outputs": [],
   "source": [
    "''' day 6 '''\n",
    "import numpy as np\n",
    "import math as m\n",
    "\n",
    "with open('data/day6.txt', 'r') as day6:\n",
    "    time, distance = [line.strip().split(':')[1].strip().split(' ') for line in day6]\n",
    "time = [int(t) for t in time if t.isnumeric()]\n",
    "distance = [int(d) for d in distance if d.isnumeric()]\n",
    "data = list(zip(time, distance))"
   ]
  },
  {
   "cell_type": "code",
   "execution_count": 92,
   "id": "6f2902bf",
   "metadata": {},
   "outputs": [
    {
     "name": "stdout",
     "output_type": "stream",
     "text": [
      "[(54, 446), (81, 1292), (70, 1035), (88, 1007)]\n"
     ]
    }
   ],
   "source": [
    "print(data)"
   ]
  },
  {
   "cell_type": "code",
   "execution_count": 93,
   "id": "0792c501",
   "metadata": {},
   "outputs": [
    {
     "name": "stdout",
     "output_type": "stream",
     "text": [
      "[33, 38, 27, 61]\n",
      "2065338\n"
     ]
    }
   ],
   "source": [
    "''' part 1 '''\n",
    "# total time = t\n",
    "# speed = x\n",
    "# speed = x means time = t-x\n",
    "# x*t-x is total time traveled\n",
    "def equation(x, t):\n",
    "    return x*(t-x)\n",
    "\n",
    "number_of_records = []\n",
    "for race in data:\n",
    "    distances = []\n",
    "    for x in range(race[0]):\n",
    "        distances.append(equation(x, race[0]))\n",
    "    number_of_records.append(len([x for x in distances if x > race[1]]))\n",
    "    \n",
    "print(number_of_records)\n",
    "print(m.prod(number_of_records))"
   ]
  },
  {
   "cell_type": "code",
   "execution_count": 94,
   "id": "aec619cb",
   "metadata": {},
   "outputs": [],
   "source": [
    "''' part 2 '''\n",
    "### reopen data as strings instead of ints, then concatenate\n",
    "with open('data/day6.txt', 'r') as day6:\n",
    "    time, distance = [line.strip().split(':')[1].strip().split(' ') for line in day6]\n",
    "times = [t for t in time if t.isnumeric()]\n",
    "distances = [d for d in distance if d.isnumeric()]\n",
    "time = int(''.join(times))\n",
    "distance = int(''.join(distances))"
   ]
  },
  {
   "cell_type": "code",
   "execution_count": 95,
   "id": "2a2d013f",
   "metadata": {},
   "outputs": [
    {
     "data": {
      "image/png": "[encoded data removed]",
      "text/plain": [
       "<Figure size 432x288 with 1 Axes>"
      ]
     },
     "metadata": {
      "needs_background": "light"
     },
     "output_type": "display_data"
    }
   ],
   "source": [
    "### visualize the problem\n",
    "### -> task is to find distance between the intersection points\n",
    "\n",
    "import matplotlib.pyplot as plt\n",
    "\n",
    "x_lims = range(0,time, int(time/2000))\n",
    "y = [equation(x, time) for x in x_lims]\n",
    "plt.plot(x_lims, y)\n",
    "plt.axhline(distance)\n",
    "plt.show()"
   ]
  },
  {
   "cell_type": "code",
   "execution_count": 97,
   "id": "ceafa517",
   "metadata": {},
   "outputs": [
    {
     "name": "stdout",
     "output_type": "stream",
     "text": [
      "The roots are\n",
      "(44875629.44230917-0j)\n",
      "(9941458.557690829-0j)\n",
      "\n",
      "The number of ways to win:\n",
      "34934171\n"
     ]
    }
   ],
   "source": [
    "''' need to find distance between roots of this quadratic equation:\n",
    ">>  x*(time-x) = distance\n",
    ">>  -x^2 + time*x - distance = 0 '''\n",
    "\n",
    "import cmath\n",
    " \n",
    "a = -1\n",
    "b = time\n",
    "c = -distance\n",
    " \n",
    "# calculating  the discriminant\n",
    "dis = (b**2) - (4 * a*c)\n",
    " \n",
    "# find two results\n",
    "ans1 = (-b-cmath.sqrt(dis))/(2 * a)\n",
    "ans2 = (-b + cmath.sqrt(dis))/(2 * a)\n",
    " \n",
    "# printing the results\n",
    "print('The roots are')\n",
    "print(ans1)\n",
    "print(ans2)\n",
    "print(f'\\nThe number of ways to win:\\n{m.floor(ans1.real)- m.floor(ans2.real)}')"
   ]
  }
 ],
 "metadata": {
  "kernelspec": {
   "display_name": "Python 3 (ipykernel)",
   "language": "python",
   "name": "python3"
  },
  "language_info": {
   "codemirror_mode": {
    "name": "ipython",
    "version": 3
   },
   "file_extension": ".py",
   "mimetype": "text/x-python",
   "name": "python",
   "nbconvert_exporter": "python",
   "pygments_lexer": "ipython3",
   "version": "3.9.7"
  }
 },
 "nbformat": 4,
 "nbformat_minor": 5
}
