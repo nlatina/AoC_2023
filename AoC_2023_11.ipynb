{
 "cells": [
  {
   "cell_type": "code",
   "execution_count": 87,
   "id": "1899b040",
   "metadata": {},
   "outputs": [],
   "source": [
    "'''day 11'''\n",
    "import numpy as np\n",
    "import math\n",
    "with open('data/day11.txt', 'r') as day11:\n",
    "    data = np.array([list(line.strip()) for line in day11])"
   ]
  },
  {
   "cell_type": "code",
   "execution_count": 88,
   "id": "2a2af6bd",
   "metadata": {},
   "outputs": [],
   "source": [
    "''' part 1 '''\n",
    "\n",
    "# manipulate np.array accordingly (add empty rows)\n",
    "counter = 0\n",
    "\n",
    "for i in data:\n",
    "    if '#' not in i:\n",
    "        data = np.insert(data, counter, '.', axis = 0)\n",
    "        counter += 1\n",
    "    counter += 1\n",
    "\n",
    "# transpose array and repeat to add in empty columns\n",
    "data = data.T\n",
    "\n",
    "counter = 0\n",
    "\n",
    "for i in data:\n",
    "    if '#' not in i:\n",
    "        data = np.insert(data, counter, '.', axis = 0)\n",
    "        counter += 1\n",
    "    counter += 1\n",
    "    \n",
    "# retranspose (unnecessary, but will make debugging easier)\n",
    "data = data.T\n"
   ]
  },
  {
   "cell_type": "code",
   "execution_count": 89,
   "id": "f80c2c25",
   "metadata": {},
   "outputs": [
    {
     "name": "stdout",
     "output_type": "stream",
     "text": [
      "9563821\n"
     ]
    }
   ],
   "source": [
    "coords = np.where(data == '#')\n",
    "coords = [(x, y) for x, y in zip(coords[0], coords[1])]\n",
    "\n",
    "total_length = 0\n",
    "seen = []\n",
    "for start in coords:\n",
    "    seen.append(start)\n",
    "    for end in coords:\n",
    "        if start == end or end in seen:\n",
    "            continue\n",
    "        \n",
    "        total_length += abs(end[1]-start[1]) + abs(end[0]-start[0])\n",
    "        \n",
    "print(total_length)"
   ]
  },
  {
   "cell_type": "code",
   "execution_count": 91,
   "id": "aafcaeec",
   "metadata": {},
   "outputs": [
    {
     "name": "stdout",
     "output_type": "stream",
     "text": [
      "827009909817\n"
     ]
    }
   ],
   "source": [
    "'''part 2'''\n",
    "\n",
    "with open('data/day11.txt', 'r') as day11:\n",
    "    data = np.array([list(line.strip()) for line in day11])\n",
    "    \n",
    "coords = np.where(data == '#')\n",
    "coords = [[x, y] for x, y in zip(coords[0], coords[1])]\n",
    "coords_copy = coords.copy()\n",
    "\n",
    "### instead of manipulating np.array, calculate the coordinates directly\n",
    "counter = 0\n",
    "for i in data:\n",
    "    if '#' not in i:\n",
    "        for i in range(len(coords)):\n",
    "            if coords_copy[i][0] > counter:\n",
    "                coords[i] = [coords[i][0] + 999999, coords[i][1]]\n",
    "    counter += 1\n",
    "    \n",
    "counter = 0\n",
    "for i in data.T:\n",
    "    if '#' not in i:\n",
    "        for i in range(len(coords)):\n",
    "            if coords_copy[i][1] > counter:\n",
    "                coords[i] = [coords[i][0], coords[i][1] + 999999]\n",
    "    counter += 1\n",
    "\n",
    "total_length = 0\n",
    "seen = []\n",
    "for start in coords:\n",
    "    seen.append(start)\n",
    "    for end in coords:\n",
    "        if start == end or end in seen:\n",
    "            continue\n",
    "        \n",
    "        length = abs(end[1]-start[1]) + abs(end[0]-start[0])\n",
    "        total_length += length\n",
    "print(total_length)"
   ]
  }
 ],
 "metadata": {
  "kernelspec": {
   "display_name": "Python 3 (ipykernel)",
   "language": "python",
   "name": "python3"
  },
  "language_info": {
   "codemirror_mode": {
    "name": "ipython",
    "version": 3
   },
   "file_extension": ".py",
   "mimetype": "text/x-python",
   "name": "python",
   "nbconvert_exporter": "python",
   "pygments_lexer": "ipython3",
   "version": "3.9.7"
  }
 },
 "nbformat": 4,
 "nbformat_minor": 5
}
