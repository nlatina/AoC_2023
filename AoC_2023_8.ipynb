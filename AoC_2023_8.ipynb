{
 "cells": [
  {
   "cell_type": "code",
   "execution_count": 113,
   "id": "21196d5a",
   "metadata": {},
   "outputs": [],
   "source": [
    "'''day 8'''\n",
    "import math as m\n",
    "import numpy as np\n",
    "from operator import itemgetter\n",
    "\n",
    "with open('data/day8.txt', 'r') as day7:\n",
    "    data = day7.readlines()\n",
    "\n",
    "\n",
    "# pull out RL sequence and convert to indices (L = 0, R = 1)\n",
    "directions = []\n",
    "RL_map = {'L':0,\n",
    "          'R':1}\n",
    "\n",
    "for d in data[0].strip():\n",
    "    directions.append(RL_map[d])\n",
    "    \n",
    "#import the network data into a dictionary\n",
    "network = {}\n",
    "for i in range(2, len(data)):\n",
    "    items = data[i].split('=')\n",
    "    endpoints = items[1].split('(')[1].split(')')[0].split(',')\n",
    "    network[items[0].strip()] = [endpoints[0], endpoints[1].strip()]"
   ]
  },
  {
   "cell_type": "code",
   "execution_count": 114,
   "id": "8b4cf790",
   "metadata": {},
   "outputs": [
    {
     "name": "stdout",
     "output_type": "stream",
     "text": [
      "21883\n"
     ]
    }
   ],
   "source": [
    "'''part 1'''\n",
    "# cycle length of repeating pattern\n",
    "pat_length = len(dir_idx)\n",
    "\n",
    "# initialize step number and starting place\n",
    "counter = 0\n",
    "current_space = 'AAA'\n",
    "\n",
    "# traverse network as specified until landing on ZZZ\n",
    "while current_space != 'ZZZ':\n",
    "    current_space = network[current_space][dir_idx[counter%pat_length]]\n",
    "    counter += 1\n",
    "    \n",
    "print(counter)"
   ]
  },
  {
   "cell_type": "code",
   "execution_count": 104,
   "id": "82a38002",
   "metadata": {},
   "outputs": [
    {
     "ename": "KeyboardInterrupt",
     "evalue": "",
     "output_type": "error",
     "traceback": [
      "\u001b[0;31m---------------------------------------------------------------------------\u001b[0m",
      "\u001b[0;31mKeyboardInterrupt\u001b[0m                         Traceback (most recent call last)",
      "\u001b[0;32m/var/folders/h4/77l8l2bd37z5_jkwbw_75nsw0000gn/T/ipykernel_3472/844531963.py\u001b[0m in \u001b[0;36m<module>\u001b[0;34m\u001b[0m\n\u001b[1;32m     17\u001b[0m     \u001b[0mLoS\u001b[0m \u001b[0;34m=\u001b[0m \u001b[0;34m[\u001b[0m\u001b[0mitem\u001b[0m\u001b[0;34m[\u001b[0m\u001b[0mdir_idx\u001b[0m\u001b[0;34m[\u001b[0m\u001b[0mcounter\u001b[0m\u001b[0;34m%\u001b[0m\u001b[0mpat_length\u001b[0m\u001b[0;34m]\u001b[0m\u001b[0;34m]\u001b[0m \u001b[0;32mfor\u001b[0m \u001b[0mitem\u001b[0m \u001b[0;32min\u001b[0m \u001b[0mpositions\u001b[0m\u001b[0;34m]\u001b[0m\u001b[0;34m\u001b[0m\u001b[0;34m\u001b[0m\u001b[0m\n\u001b[1;32m     18\u001b[0m     \u001b[0msucceeded\u001b[0m \u001b[0;34m=\u001b[0m \u001b[0mevaluate\u001b[0m\u001b[0;34m(\u001b[0m\u001b[0mLoS\u001b[0m\u001b[0;34m)\u001b[0m\u001b[0;34m\u001b[0m\u001b[0;34m\u001b[0m\u001b[0m\n\u001b[0;32m---> 19\u001b[0;31m     \u001b[0mcounter\u001b[0m \u001b[0;34m+=\u001b[0m \u001b[0;36m0\u001b[0m\u001b[0;34m\u001b[0m\u001b[0;34m\u001b[0m\u001b[0m\n\u001b[0m\u001b[1;32m     20\u001b[0m \u001b[0;34m\u001b[0m\u001b[0m\n\u001b[1;32m     21\u001b[0m \u001b[0mprint\u001b[0m\u001b[0;34m(\u001b[0m\u001b[0mcounter\u001b[0m\u001b[0;34m)\u001b[0m\u001b[0;34m\u001b[0m\u001b[0;34m\u001b[0m\u001b[0m\n",
      "\u001b[0;31mKeyboardInterrupt\u001b[0m: "
     ]
    }
   ],
   "source": [
    "'''part 2 (brute force, too slow)'''\n",
    "\n",
    "succeeded = False\n",
    "\n",
    "current_spaces = []\n",
    "for places in network.keys():\n",
    "    if places[-1] == 'A':\n",
    "        current_spaces.append(places)\n",
    "counter = 0\n",
    "\n",
    "def evaluate(LoS):\n",
    "    return all(S[-1] == 'Z' for S in LoS)\n",
    "\n",
    "while not succeeded:\n",
    "    \n",
    "    positions = itemgetter(*current_spaces)(network)\n",
    "    LoS = [item[dir_idx[counter%pat_length]] for item in positions]\n",
    "    succeeded = evaluate(LoS)\n",
    "    counter += 0\n",
    "\n",
    "print(counter)"
   ]
  },
  {
   "cell_type": "code",
   "execution_count": 117,
   "id": "acf8f98b",
   "metadata": {},
   "outputs": [
    {
     "name": "stdout",
     "output_type": "stream",
     "text": [
      "[21883, 13019, 11911, 16897, 19667, 18559]\n"
     ]
    }
   ],
   "source": [
    "'''part 2, smarter\n",
    "    assumes that each path through network is cyclical '''\n",
    "\n",
    "cycle_lengths = []\n",
    "### find the length of every cycle\n",
    "for start in starting_points:\n",
    "    \n",
    "    counter = 0 #keeps track of total number of loops\n",
    "    counter_2 = 0 #keeps track of how many cycles are completed\n",
    "    \n",
    "    current_space = start\n",
    "    cycle_nums = [] #stores the time step of the current cycle conclusion\n",
    "    \n",
    "    while counter_2 != 2:\n",
    "        current_space = network[current_space][dir_idx[counter%pat_length]]\n",
    "        if (current_space[-1] == 'Z'):\n",
    "            counter_2 += 1\n",
    "            cycle_nums.append(counter)\n",
    "        counter += 1\n",
    "    cycle_lengths.append(cycle_nums[1] - cycle_nums[0])\n",
    "print(cycle_lengths)"
   ]
  },
  {
   "cell_type": "code",
   "execution_count": 118,
   "id": "7f9f7bbc",
   "metadata": {},
   "outputs": [
    {
     "name": "stdout",
     "output_type": "stream",
     "text": [
      "12833235391111\n"
     ]
    }
   ],
   "source": [
    "### given cycle lengths, find LCM of them all\n",
    "\n",
    "def lcm(x, y):\n",
    "    return x*y // m.gcd(x, y)\n",
    "\n",
    "\n",
    "# Finding the LCM of all the cycle lengths\n",
    "answer = lcm(cycle_lengths[0], cycle_lengths[1])\n",
    "for cycle in cycle_lengths[2:]:\n",
    "    answer = lcm(answer, cycle)\n",
    "    \n",
    "\n",
    "print(answer)"
   ]
  }
 ],
 "metadata": {
  "kernelspec": {
   "display_name": "Python 3 (ipykernel)",
   "language": "python",
   "name": "python3"
  },
  "language_info": {
   "codemirror_mode": {
    "name": "ipython",
    "version": 3
   },
   "file_extension": ".py",
   "mimetype": "text/x-python",
   "name": "python",
   "nbconvert_exporter": "python",
   "pygments_lexer": "ipython3",
   "version": "3.9.7"
  }
 },
 "nbformat": 4,
 "nbformat_minor": 5
}
